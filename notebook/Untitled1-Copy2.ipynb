{
 "cells": [
  {
   "cell_type": "code",
   "execution_count": null,
   "metadata": {
    "collapsed": true
   },
   "outputs": [],
   "source": []
  },
  {
   "cell_type": "code",
   "execution_count": 1,
   "metadata": {},
   "outputs": [
    {
     "data": {
      "text/html": [
       "<script>requirejs.config({paths: { 'plotly': ['https://cdn.plot.ly/plotly-latest.min']},});if(!window.Plotly) {{require(['plotly'],function(plotly) {window.Plotly=plotly;});}}</script>"
      ],
      "text/vnd.plotly.v1+html": [
       "<script>requirejs.config({paths: { 'plotly': ['https://cdn.plot.ly/plotly-latest.min']},});if(!window.Plotly) {{require(['plotly'],function(plotly) {window.Plotly=plotly;});}}</script>"
      ]
     },
     "metadata": {},
     "output_type": "display_data"
    }
   ],
   "source": [
    "from blockchain.lib.data.historical import *\n",
    "from blockchain.lib.model import Seq2Seq\n",
    "from blockchain.lib.data.dataset import Dataset\n",
    "import pandas as pd\n",
    "import matplotlib.pyplot as plt\n",
    "import plotly\n",
    "import plotly.offline as py\n",
    "import plotly.graph_objs as go\n",
    "import plotly.figure_factory as ff\n",
    "py.init_notebook_mode(connected=True)\n",
    "from blockchain.lib.data.historical import *\n",
    "import pickle as pkl"
   ]
  },
  {
   "cell_type": "code",
   "execution_count": 2,
   "metadata": {
    "collapsed": true
   },
   "outputs": [],
   "source": [
    "pg = PoliniexGetter(start_date=\"2016-07-01\")\n",
    "btc = pg.get(crypto_name=\"USDT_BTC\", market=\"poliniex\")\n",
    "eth = pg.get(crypto_name=\"USDT_ETH\", market=\"poliniex\")"
   ]
  },
  {
   "cell_type": "code",
   "execution_count": 3,
   "metadata": {
    "collapsed": true
   },
   "outputs": [],
   "source": [
    "eth[\"eth\"]=eth[\"price\"]\n",
    "eth[\"eth_volume\"]=eth[\"volume\"]\n",
    "dataset = pd.concat([btc, eth[[\"eth\", \"eth_volume\"]]], axis=1, join=\"inner\")"
   ]
  },
  {
   "cell_type": "code",
   "execution_count": 21,
   "metadata": {},
   "outputs": [
    {
     "name": "stdout",
     "output_type": "stream",
     "text": [
      "INFO:tensorflow:Using default config.\n",
      "INFO:tensorflow:Using config: {'_task_type': None, '_keep_checkpoint_every_n_hours': 10000, '_master': '', '_num_ps_replicas': 0, '_tf_config': gpu_options {\n",
      "  per_process_gpu_memory_fraction: 1.0\n",
      "}\n",
      ", '_session_config': None, '_save_checkpoints_secs': 600, '_model_dir': './seq2seq/only_price_6hours_2hidden_20unit_lenseq12_ywindow8', '_environment': 'local', '_save_summary_steps': 100, '_task_id': 0, '_evaluation_master': '', '_is_chief': True, '_cluster_spec': <tensorflow.python.training.server_lib.ClusterSpec object at 0x7f6f2b124a20>, '_tf_random_seed': None, '_keep_checkpoint_max': 5, '_num_worker_replicas': 0, '_save_checkpoints_steps': None, '_log_step_count_steps': 100}\n"
     ]
    }
   ],
   "source": [
    "model = [\"seq2seq_hidden\",\n",
    "         \"seq2seq_eth_do_hidden\",\n",
    "         \"6hours_2hidden_50unit_lenseq12_ywindow8\",\n",
    "         \"6hours_1hidden_50unit_lenseq12_ywindow8\",\n",
    "         \"only_price_6hours_2hidden_20unit_lenseq12_ywindow8\"]\n",
    "\n",
    "experiment=model[-1]\n",
    "\n",
    "config = {\n",
    "    \"log_dir\": './seq2seq/' + experiment,\n",
    "    \"len_sequence\": 12,\n",
    "    \"rnn_layers\": [{'num_units': 20, 'keep_prob': 0.45}, {'num_units': 20, 'keep_prob': 0.45}],\n",
    "    \"training_steps\": 100000,\n",
    "    \"print_step\": 100,\n",
    "    \"batch_size\": 100,\n",
    "    \"ratio_train_val_test\": [0.1,0.2],\n",
    "    \"column\": [\"price\", \"eth\"],\n",
    "    \"label\": \"eth\",\n",
    "    \"early_stopping\": 100000,\n",
    "    \"learning_rate\": 1e-5,\n",
    "    \"optimizer\": \"RMSProp\",\n",
    "    \"y_window\": 8,\n",
    "    \"keep_prob\": 0.45,\n",
    "    \"output_dim\": 1,\n",
    "    \"GO_SYMBOL\": 0.,\n",
    "    \"l2\": 0.001,\n",
    "    \"bias_loss\": 0,\n",
    "    \"experiment\": experiment,\n",
    "    \"period\": 6\n",
    "}\n",
    "\n",
    "\n",
    "seq2seq = Seq2Seq(config)"
   ]
  },
  {
   "cell_type": "code",
   "execution_count": 18,
   "metadata": {},
   "outputs": [
    {
     "name": "stderr",
     "output_type": "stream",
     "text": [
      "/media/niki/DATA/private/blockchainanalysis/blockchain/lib/data/dataset/dataset.py:20: SettingWithCopyWarning:\n",
      "\n",
      "\n",
      "A value is trying to be set on a copy of a slice from a DataFrame.\n",
      "Try using .loc[row_indexer,col_indexer] = value instead\n",
      "\n",
      "See the caveats in the documentation: http://pandas.pydata.org/pandas-docs/stable/indexing.html#indexing-view-versus-copy\n",
      "\n"
     ]
    }
   ],
   "source": [
    "dataset = dataset.fillna(method=\"ffill\")\n",
    "dataset = dataset.dropna()\n",
    "x, y = Dataset.create_series_dataset(dataset, config[\"column\"],\n",
    "                                             config[\"label\"],\n",
    "                                             config[\"len_sequence\"],\n",
    "                                             ratio=config[\"ratio_train_val_test\"],\n",
    "                                             y_window=config[\"y_window\"],\n",
    "                                             shuffle=True,\n",
    "                                             period=config[\"period\"])\n",
    "\n",
    "pkl.dump([config, x, y], open(\"data_\" + config[\"experiment\"], \"wb\"))"
   ]
  },
  {
   "cell_type": "code",
   "execution_count": 19,
   "metadata": {
    "collapsed": true
   },
   "outputs": [],
   "source": [
    "config, x, y = pkl.load(open(\"data_\" + config[\"experiment\"].replace(\"/\", \"_\"), \"rb\"))"
   ]
  },
  {
   "cell_type": "code",
   "execution_count": null,
   "metadata": {
    "scrolled": true
   },
   "outputs": [
    {
     "name": "stdout",
     "output_type": "stream",
     "text": [
      "WARNING:tensorflow:From /media/niki/DATA/.pyenv/versions/3.5.2/envs/blockchain/lib/python3.5/site-packages/tensorflow/contrib/learn/python/learn/monitors.py:269: BaseMonitor.__init__ (from tensorflow.contrib.learn.python.learn.monitors) is deprecated and will be removed after 2016-12-05.\n",
      "Instructions for updating:\n",
      "Monitors are deprecated. Please use tf.train.SessionRunHook.\n",
      "WARNING:tensorflow:<tensorflow.python.ops.rnn_cell_impl.BasicLSTMCell object at 0x7f6f8b7dba90>: Using a concatenated state is slower and will soon be deprecated.  Use state_is_tuple=True.\n",
      "WARNING:tensorflow:<tensorflow.python.ops.rnn_cell_impl.BasicLSTMCell object at 0x7f6f90ab2c18>: Using a concatenated state is slower and will soon be deprecated.  Use state_is_tuple=True.\n",
      "INFO:tensorflow:Create CheckpointSaverHook.\n",
      "INFO:tensorflow:Restoring parameters from ./seq2seq/only_price_6hours_2hidden_20unit_lenseq12_ywindow8/model.ckpt-27520\n",
      "INFO:tensorflow:Saving checkpoints for 27521 into ./seq2seq/only_price_6hours_2hidden_20unit_lenseq12_ywindow8/model.ckpt.\n",
      "WARNING:tensorflow:From /media/niki/DATA/.pyenv/versions/3.5.2/envs/blockchain/lib/python3.5/site-packages/tensorflow/contrib/learn/python/learn/monitors.py:672: calling BaseEstimator.evaluate (from tensorflow.contrib.learn.python.learn.estimators.estimator) with y is deprecated and will be removed after 2016-12-01.\n",
      "Instructions for updating:\n",
      "Estimator is decoupled from Scikit Learn interface by moving into\n",
      "separate class SKCompat. Arguments x, y and batch_size are only\n",
      "available in the SKCompat class, Estimator will only accept input_fn.\n",
      "Example conversion:\n",
      "  est = Estimator(...) -> est = SKCompat(Estimator(...))\n",
      "WARNING:tensorflow:From /media/niki/DATA/.pyenv/versions/3.5.2/envs/blockchain/lib/python3.5/site-packages/tensorflow/contrib/learn/python/learn/monitors.py:672: calling BaseEstimator.evaluate (from tensorflow.contrib.learn.python.learn.estimators.estimator) with x is deprecated and will be removed after 2016-12-01.\n",
      "Instructions for updating:\n",
      "Estimator is decoupled from Scikit Learn interface by moving into\n",
      "separate class SKCompat. Arguments x, y and batch_size are only\n",
      "available in the SKCompat class, Estimator will only accept input_fn.\n",
      "Example conversion:\n",
      "  est = Estimator(...) -> est = SKCompat(Estimator(...))\n",
      "WARNING:tensorflow:<tensorflow.python.ops.rnn_cell_impl.BasicLSTMCell object at 0x7f6f2b27ea20>: Using a concatenated state is slower and will soon be deprecated.  Use state_is_tuple=True.\n",
      "WARNING:tensorflow:<tensorflow.python.ops.rnn_cell_impl.BasicLSTMCell object at 0x7f6f90cf99b0>: Using a concatenated state is slower and will soon be deprecated.  Use state_is_tuple=True.\n",
      "INFO:tensorflow:Starting evaluation at 2017-09-17-16:32:32\n",
      "INFO:tensorflow:Restoring parameters from ./seq2seq/only_price_6hours_2hidden_20unit_lenseq12_ywindow8/model.ckpt-27521\n",
      "INFO:tensorflow:Finished evaluation at 2017-09-17-16:32:32\n",
      "INFO:tensorflow:Saving dict for global step 27521: global_step = 27521, loss = 1235.56\n",
      "INFO:tensorflow:Validation (step 27521): global_step = 27521, loss = 1235.56\n",
      "INFO:tensorflow:loss = 524.998, step = 27521\n",
      "INFO:tensorflow:global_step/sec: 19.0548\n",
      "INFO:tensorflow:loss = 989.82, step = 27621 (3.469 sec)\n",
      "INFO:tensorflow:global_step/sec: 32.1079\n",
      "INFO:tensorflow:loss = 734.212, step = 27721 (3.116 sec)\n",
      "INFO:tensorflow:global_step/sec: 31.514\n",
      "INFO:tensorflow:loss = 1033.56, step = 27821 (3.171 sec)\n",
      "INFO:tensorflow:global_step/sec: 27.9966\n",
      "INFO:tensorflow:loss = 1135.96, step = 27921 (3.574 sec)\n",
      "INFO:tensorflow:global_step/sec: 24.7324\n",
      "INFO:tensorflow:loss = 610.761, step = 28021 (4.041 sec)\n",
      "INFO:tensorflow:global_step/sec: 23.2657\n",
      "INFO:tensorflow:loss = 684.688, step = 28121 (4.299 sec)\n",
      "INFO:tensorflow:global_step/sec: 29.4082\n",
      "INFO:tensorflow:loss = 862.259, step = 28221 (3.400 sec)\n",
      "INFO:tensorflow:global_step/sec: 16.1628\n",
      "INFO:tensorflow:loss = 696.665, step = 28321 (6.190 sec)\n",
      "INFO:tensorflow:global_step/sec: 13.5494\n",
      "INFO:tensorflow:loss = 731.295, step = 28421 (7.379 sec)\n",
      "INFO:tensorflow:global_step/sec: 13.0127\n",
      "INFO:tensorflow:loss = 721.328, step = 28521 (7.684 sec)\n",
      "INFO:tensorflow:global_step/sec: 14.1109\n",
      "INFO:tensorflow:loss = 719.876, step = 28621 (7.098 sec)\n",
      "INFO:tensorflow:global_step/sec: 11.796\n",
      "INFO:tensorflow:loss = 648.113, step = 28721 (8.469 sec)\n",
      "INFO:tensorflow:global_step/sec: 13.1024\n",
      "INFO:tensorflow:loss = 1016.44, step = 28821 (7.628 sec)\n",
      "INFO:tensorflow:global_step/sec: 26.3907\n",
      "INFO:tensorflow:loss = 699.243, step = 28921 (3.796 sec)\n",
      "INFO:tensorflow:global_step/sec: 30.2007\n",
      "INFO:tensorflow:loss = 657.32, step = 29021 (3.306 sec)\n",
      "INFO:tensorflow:global_step/sec: 29.4174\n",
      "INFO:tensorflow:loss = 699.417, step = 29121 (3.399 sec)\n",
      "INFO:tensorflow:global_step/sec: 30.1376\n",
      "INFO:tensorflow:loss = 883.942, step = 29221 (3.316 sec)\n",
      "INFO:tensorflow:global_step/sec: 29.7163\n",
      "INFO:tensorflow:loss = 871.457, step = 29321 (3.366 sec)\n",
      "INFO:tensorflow:global_step/sec: 19.8741\n",
      "INFO:tensorflow:loss = 861.519, step = 29421 (5.032 sec)\n",
      "INFO:tensorflow:global_step/sec: 20.575\n",
      "INFO:tensorflow:loss = 653.765, step = 29521 (4.860 sec)\n",
      "INFO:tensorflow:global_step/sec: 28.1838\n",
      "INFO:tensorflow:loss = 988.655, step = 29621 (3.547 sec)\n",
      "INFO:tensorflow:global_step/sec: 24.5746\n",
      "INFO:tensorflow:loss = 797.124, step = 29721 (4.069 sec)\n",
      "INFO:tensorflow:global_step/sec: 22.8193\n",
      "INFO:tensorflow:loss = 605.017, step = 29821 (4.382 sec)\n",
      "INFO:tensorflow:global_step/sec: 29.5731\n",
      "INFO:tensorflow:loss = 515.835, step = 29921 (3.383 sec)\n",
      "INFO:tensorflow:global_step/sec: 22.1087\n",
      "INFO:tensorflow:loss = 664.762, step = 30021 (4.521 sec)\n",
      "INFO:tensorflow:global_step/sec: 22.8704\n",
      "INFO:tensorflow:loss = 725.932, step = 30121 (4.377 sec)\n",
      "INFO:tensorflow:global_step/sec: 15.6491\n",
      "INFO:tensorflow:loss = 692.268, step = 30221 (6.386 sec)\n",
      "INFO:tensorflow:global_step/sec: 14.6524\n",
      "INFO:tensorflow:loss = 654.925, step = 30321 (6.825 sec)\n",
      "INFO:tensorflow:global_step/sec: 17.6726\n",
      "INFO:tensorflow:loss = 891.828, step = 30421 (5.667 sec)\n",
      "INFO:tensorflow:global_step/sec: 14.9544\n",
      "INFO:tensorflow:loss = 1040.24, step = 30521 (6.680 sec)\n",
      "INFO:tensorflow:global_step/sec: 9.59705\n",
      "INFO:tensorflow:loss = 958.569, step = 30621 (10.421 sec)\n"
     ]
    }
   ],
   "source": [
    "seq2seq.fit(x, y)"
   ]
  },
  {
   "cell_type": "code",
   "execution_count": 10,
   "metadata": {},
   "outputs": [
    {
     "name": "stdout",
     "output_type": "stream",
     "text": [
      "WARNING:tensorflow:<tensorflow.python.ops.rnn_cell_impl.BasicLSTMCell object at 0x7f6f2a3dccc0>: Using a concatenated state is slower and will soon be deprecated.  Use state_is_tuple=True.\n",
      "WARNING:tensorflow:<tensorflow.python.ops.rnn_cell_impl.BasicLSTMCell object at 0x7f6f2a3dcf28>: Using a concatenated state is slower and will soon be deprecated.  Use state_is_tuple=True.\n",
      "INFO:tensorflow:Restoring parameters from ./seq2seq/6hours_2hidden_50unit_lenseq12_ywindow8/model.ckpt-39798\n"
     ]
    },
    {
     "data": {
      "text/plain": [
       "(22.400936, (1264, 12, 4))"
      ]
     },
     "execution_count": 10,
     "metadata": {},
     "output_type": "execute_result"
    }
   ],
   "source": [
    "b=0\n",
    "loss = 0\n",
    "r = 90\n",
    "end = b + r\n",
    "pred = seq2seq.predict(x[\"train\"][b:end])\n",
    "loss = pred - y[\"train\"][b:end].reshape([r, config[\"y_window\"]])\n",
    "loss = np.sqrt(loss**2).mean()\n",
    "loss, x[\"train\"].shape"
   ]
  },
  {
   "cell_type": "code",
   "execution_count": null,
   "metadata": {
    "collapsed": true
   },
   "outputs": [],
   "source": [
    "import matplotlib.pyplot as plt\n",
    "import plotly\n",
    "import plotly.offline as py\n",
    "import plotly.graph_objs as go\n",
    "import plotly.figure_factory as ff\n",
    "py.init_notebook_mode(connected=True)\n",
    "from blockchain.lib.data.historical import *\n",
    "prediction=np.hstack([np.array([np.array([np.nan for j in range(config[\"len_sequence\"])]) for i in range(0,100,config[\"len_sequence\"]+config[\"y_window\"])]), pred]).astype(np.float32).flatten()\n",
    "pred.fill(np.nan)\n",
    "nrm=np.hstack([np.array([np.array(sin[\"label\"])[i:i+config[\"len_sequence\"]] for i in range(0,100,config[\"len_sequence\"]+config[\"y_window\"])]), pred]).astype(np.float32).flatten()\n",
    "sct=go.Scatter(x=sin[\"x\"].index[:200], y=prediction)\n",
    "sct2=go.Scatter(x=sin[\"x\"].index[:200], y=nrm)\n",
    "py.iplot([sct2, sct])"
   ]
  },
  {
   "cell_type": "code",
   "execution_count": 13,
   "metadata": {},
   "outputs": [
    {
     "name": "stdout",
     "output_type": "stream",
     "text": [
      "WARNING:tensorflow:<tensorflow.python.ops.rnn_cell_impl.BasicLSTMCell object at 0x7f6faef5e4e0>: Using a concatenated state is slower and will soon be deprecated.  Use state_is_tuple=True.\n",
      "WARNING:tensorflow:<tensorflow.python.ops.rnn_cell_impl.BasicLSTMCell object at 0x7f6f90e734e0>: Using a concatenated state is slower and will soon be deprecated.  Use state_is_tuple=True.\n",
      "INFO:tensorflow:Restoring parameters from ./seq2seq/6hours_2hidden_50unit_lenseq12_ywindow8/model.ckpt-39798\n"
     ]
    },
    {
     "data": {
      "application/vnd.plotly.v1+json": {
       "data": [
        {
         "type": "scatter",
         "x": [
          0,
          1,
          2,
          3,
          4,
          5,
          6,
          7,
          8,
          9,
          10,
          11,
          12,
          13,
          14,
          15,
          16,
          17,
          18,
          19
         ],
         "y": [
          10.726179122924805,
          10.690261840820312,
          10.635468482971191,
          10.57796859741211,
          10.530224800109863,
          10.493894577026367,
          10.364054679870605,
          10.403940200805664,
          10.478557586669922,
          10.51342487335205,
          10.549751281738281,
          10.54037094116211
         ]
        },
        {
         "type": "scatter",
         "x": [
          0,
          1,
          2,
          3,
          4,
          5,
          6,
          7,
          8,
          9,
          10,
          11,
          12,
          13,
          14,
          15,
          16,
          17,
          18,
          19
         ],
         "y": [
          null,
          null,
          null,
          null,
          null,
          null,
          null,
          null,
          null,
          null,
          null,
          null,
          16.006032943725586,
          16.879674911499023,
          18.480491638183594,
          20.17886734008789,
          20.909997940063477,
          23.997215270996094,
          23.967866897583008,
          22.2025146484375
         ]
        },
        {
         "type": "scatter",
         "x": [
          0,
          1,
          2,
          3,
          4,
          5,
          6,
          7,
          8,
          9,
          10,
          11,
          12,
          13,
          14,
          15,
          16,
          17,
          18,
          19
         ],
         "y": [
          null,
          null,
          null,
          null,
          null,
          null,
          null,
          null,
          null,
          null,
          null,
          null,
          10.614349365234375,
          10.395710945129395,
          10.430438995361328,
          10.429548263549805,
          10.444589614868164,
          10.458999633789062,
          10.512003898620605,
          10.466517448425293
         ]
        }
       ],
       "layout": {}
      },
      "text/html": [
       "<div id=\"74deb4f6-10c5-46d9-bcbd-626b81cc3f4a\" style=\"height: 525px; width: 100%;\" class=\"plotly-graph-div\"></div><script type=\"text/javascript\">require([\"plotly\"], function(Plotly) { window.PLOTLYENV=window.PLOTLYENV || {};window.PLOTLYENV.BASE_URL=\"https://plot.ly\";Plotly.newPlot(\"74deb4f6-10c5-46d9-bcbd-626b81cc3f4a\", [{\"type\": \"scatter\", \"y\": [10.726179122924805, 10.690261840820312, 10.635468482971191, 10.57796859741211, 10.530224800109863, 10.493894577026367, 10.364054679870605, 10.403940200805664, 10.478557586669922, 10.51342487335205, 10.549751281738281, 10.54037094116211], \"x\": [0, 1, 2, 3, 4, 5, 6, 7, 8, 9, 10, 11, 12, 13, 14, 15, 16, 17, 18, 19]}, {\"type\": \"scatter\", \"y\": [null, null, null, null, null, null, null, null, null, null, null, null, 16.006032943725586, 16.879674911499023, 18.480491638183594, 20.17886734008789, 20.909997940063477, 23.997215270996094, 23.967866897583008, 22.2025146484375], \"x\": [0, 1, 2, 3, 4, 5, 6, 7, 8, 9, 10, 11, 12, 13, 14, 15, 16, 17, 18, 19]}, {\"type\": \"scatter\", \"y\": [null, null, null, null, null, null, null, null, null, null, null, null, 10.614349365234375, 10.395710945129395, 10.430438995361328, 10.429548263549805, 10.444589614868164, 10.458999633789062, 10.512003898620605, 10.466517448425293], \"x\": [0, 1, 2, 3, 4, 5, 6, 7, 8, 9, 10, 11, 12, 13, 14, 15, 16, 17, 18, 19]}], {}, {\"showLink\": true, \"linkText\": \"Export to plot.ly\"})});</script>"
      ],
      "text/vnd.plotly.v1+html": [
       "<div id=\"74deb4f6-10c5-46d9-bcbd-626b81cc3f4a\" style=\"height: 525px; width: 100%;\" class=\"plotly-graph-div\"></div><script type=\"text/javascript\">require([\"plotly\"], function(Plotly) { window.PLOTLYENV=window.PLOTLYENV || {};window.PLOTLYENV.BASE_URL=\"https://plot.ly\";Plotly.newPlot(\"74deb4f6-10c5-46d9-bcbd-626b81cc3f4a\", [{\"type\": \"scatter\", \"y\": [10.726179122924805, 10.690261840820312, 10.635468482971191, 10.57796859741211, 10.530224800109863, 10.493894577026367, 10.364054679870605, 10.403940200805664, 10.478557586669922, 10.51342487335205, 10.549751281738281, 10.54037094116211], \"x\": [0, 1, 2, 3, 4, 5, 6, 7, 8, 9, 10, 11, 12, 13, 14, 15, 16, 17, 18, 19]}, {\"type\": \"scatter\", \"y\": [null, null, null, null, null, null, null, null, null, null, null, null, 16.006032943725586, 16.879674911499023, 18.480491638183594, 20.17886734008789, 20.909997940063477, 23.997215270996094, 23.967866897583008, 22.2025146484375], \"x\": [0, 1, 2, 3, 4, 5, 6, 7, 8, 9, 10, 11, 12, 13, 14, 15, 16, 17, 18, 19]}, {\"type\": \"scatter\", \"y\": [null, null, null, null, null, null, null, null, null, null, null, null, 10.614349365234375, 10.395710945129395, 10.430438995361328, 10.429548263549805, 10.444589614868164, 10.458999633789062, 10.512003898620605, 10.466517448425293], \"x\": [0, 1, 2, 3, 4, 5, 6, 7, 8, 9, 10, 11, 12, 13, 14, 15, 16, 17, 18, 19]}], {}, {\"showLink\": true, \"linkText\": \"Export to plot.ly\"})});</script>"
      ]
     },
     "metadata": {},
     "output_type": "display_data"
    }
   ],
   "source": [
    "n=30\n",
    "train_test=\"test\"\n",
    "pred = seq2seq.predict(x[train_test][b:end]) \n",
    "prediction=np.hstack([np.array([np.nan for j in range(config[\"len_sequence\"])]), pred[n]]).astype(np.float32).flatten()\n",
    "nrm=x[train_test][n][:,1].astype(np.float32).flatten()\n",
    "trh=np.hstack([np.array([np.nan for j in range(config[\"len_sequence\"])]), y[train_test][n].astype(np.float32).flatten()]).astype(np.float32).flatten()\n",
    "sct=go.Scatter(x=[i for i in range(prediction.shape[0])], y=prediction)\n",
    "sct2=go.Scatter(x=[i for i in range(prediction.shape[0])], y=nrm)\n",
    "sct3=go.Scatter(x=[i for i in range(prediction.shape[0])], y=trh)\n",
    "py.iplot([sct2, sct, sct3])"
   ]
  },
  {
   "cell_type": "code",
   "execution_count": null,
   "metadata": {
    "collapsed": true
   },
   "outputs": [],
   "source": []
  },
  {
   "cell_type": "code",
   "execution_count": null,
   "metadata": {
    "collapsed": true
   },
   "outputs": [],
   "source": []
  },
  {
   "cell_type": "code",
   "execution_count": null,
   "metadata": {
    "collapsed": true
   },
   "outputs": [],
   "source": []
  },
  {
   "cell_type": "code",
   "execution_count": null,
   "metadata": {
    "collapsed": true
   },
   "outputs": [],
   "source": []
  }
 ],
 "metadata": {
  "kernelspec": {
   "display_name": "Python 3",
   "language": "python",
   "name": "python3"
  },
  "language_info": {
   "codemirror_mode": {
    "name": "ipython",
    "version": 3
   },
   "file_extension": ".py",
   "mimetype": "text/x-python",
   "name": "python",
   "nbconvert_exporter": "python",
   "pygments_lexer": "ipython3",
   "version": "3.5.2"
  }
 },
 "nbformat": 4,
 "nbformat_minor": 2
}
